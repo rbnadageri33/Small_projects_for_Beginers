{
 "cells": [
  {
   "cell_type": "code",
   "execution_count": 2,
   "id": "4833793d",
   "metadata": {},
   "outputs": [],
   "source": [
    "import pandas as pd\n",
    "import numpy as np\n",
    "import seaborn as sns\n",
    "import cufflinks as cf\n",
    "import plotly.express as px\n",
    "import matplotlib.pyplot as plt\n",
    "import plotly.graph_objects as go\n",
    "%matplotlib inline"
   ]
  },
  {
   "cell_type": "code",
   "execution_count": 3,
   "id": "de200d0a",
   "metadata": {},
   "outputs": [
    {
     "data": {
      "text/plain": [
       "<function cufflinks.offline.go_offline(connected=None)>"
      ]
     },
     "execution_count": 3,
     "metadata": {},
     "output_type": "execute_result"
    }
   ],
   "source": [
    "from plotly.offline import download_plotlyjs, init_notebook_mode, plot, iplot\n",
    "cf.go_offline"
   ]
  },
  {
   "cell_type": "code",
   "execution_count": 4,
   "id": "a5e86f10",
   "metadata": {},
   "outputs": [],
   "source": [
    "import yfinance as yf\n",
    "import datetime\n",
    "from datetime import date, timedelta"
   ]
  },
  {
   "cell_type": "code",
   "execution_count": 5,
   "id": "ae929217",
   "metadata": {},
   "outputs": [],
   "source": [
    "today = date.today()\n",
    "d1 = today.strftime('%y-%m-%d')\n",
    "end_date = d1"
   ]
  },
  {
   "cell_type": "code",
   "execution_count": null,
   "id": "8fb1b803",
   "metadata": {},
   "outputs": [],
   "source": [
    "d2 = date.today() - timedelta(days = 720)\n",
    "d2 = d2.strftime('%y-%m-%d')\n",
    "start_date = d2"
   ]
  },
  {
   "cell_type": "code",
   "execution_count": null,
   "id": "0e929149",
   "metadata": {},
   "outputs": [],
   "source": [
    "data = yf.download('TSLA', \n",
    "                      start=start_date, \n",
    "                      end=end_date,\n",
    "                      progress=False)"
   ]
  },
  {
   "cell_type": "code",
   "execution_count": null,
   "id": "31f73663",
   "metadata": {},
   "outputs": [],
   "source": [
    "data.head()"
   ]
  },
  {
   "cell_type": "code",
   "execution_count": null,
   "id": "25b696ee",
   "metadata": {},
   "outputs": [],
   "source": []
  }
 ],
 "metadata": {
  "kernelspec": {
   "display_name": "Python 3",
   "language": "python",
   "name": "python3"
  }
 },
 "nbformat": 4,
 "nbformat_minor": 5
}
