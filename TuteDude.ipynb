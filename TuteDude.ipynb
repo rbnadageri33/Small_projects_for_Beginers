{
 "cells": [
  {
   "cell_type": "code",
   "execution_count": null,
   "metadata": {},
   "outputs": [],
   "source": []
  },
  {
   "cell_type": "markdown",
   "id": "097f1330",
   "metadata": {},
   "source": [
    "11 Coding challenge "
   ]
  },
  {
   "cell_type": "code",
   "execution_count": 26,
   "id": "2e8d3a74",
   "metadata": {},
   "outputs": [
    {
     "name": "stdout",
     "output_type": "stream",
     "text": [
      "The simple interest will be : 2400.0\n"
     ]
    }
   ],
   "source": [
    "\"\"\"#Celcius to Farenheit\n",
    "\n",
    "c = input('Celcius : ')\n",
    "c = float(c)\n",
    "f = ( c * 9/5) + 32\n",
    "print( ' Farenheait : ', f)\n",
    "'''\n",
    "'''#Farenheit in to celcius \n",
    "f = input('Enter the Farenhiet value : ')\n",
    "f = int(f)\n",
    "c = ( f -32 ) * 5/9\n",
    "print( 'Celcius value is : ', c)\"\"\"\n",
    "\n",
    "\n",
    "#Simple Interest calculator\n",
    "#Equation = pnr/100\n",
    "p=int(input('Enter the value of p :'))\n",
    "n=int(input('Enter the value of n :'))\n",
    "r=int(input('Enter the value of r :'))\n",
    "simple_interest = (p*n*r)/100\n",
    "print('The simple interest will be :',simple_interest)"
   ]
  },
  {
   "cell_type": "markdown",
   "id": "7bb00157",
   "metadata": {},
   "source": [
    "12 Numeric Function"
   ]
  },
  {
   "cell_type": "code",
   "execution_count": null,
   "id": "b8c68fd0",
   "metadata": {},
   "outputs": [],
   "source": [
    "list1.mean()"
   ]
  },
  {
   "cell_type": "code",
   "execution_count": 5,
   "id": "3235759e",
   "metadata": {},
   "outputs": [
    {
     "name": "stdout",
     "output_type": "stream",
     "text": [
      "25.5\n",
      "256\n"
     ]
    }
   ],
   "source": [
    "print(max(1,5,15,12,14,25,25.5))\n",
    "print(pow(4,4))"
   ]
  },
  {
   "cell_type": "markdown",
   "id": "e3e3227e",
   "metadata": {},
   "source": [
    "14. IF Statement"
   ]
  },
  {
   "cell_type": "code",
   "execution_count": 6,
   "id": "30e52b88",
   "metadata": {},
   "outputs": [
    {
     "name": "stdout",
     "output_type": "stream",
     "text": [
      " Congratulations !!! you are pass with good number\n",
      "Have a great day\n"
     ]
    }
   ],
   "source": [
    "\"\"\"a = int(input('Enter the Number to compare :'))\n",
    "if a > 5:\n",
    "    print('a is greter number ')\n",
    "print('NoN')\n",
    "\"\"\"\n",
    "\n",
    "from ast import If\n",
    "\n",
    "\n",
    "marks = int(input('Enter your marks to get the result : '))\n",
    "\n",
    "if marks > 40:\n",
    "    print(' Congratulations !!! you are pass with good number')\n",
    "else:\n",
    "    print('Oh sorry Better luck next time! Thanking you')\n",
    "print('Have a great day')"
   ]
  },
  {
   "cell_type": "code",
   "execution_count": 28,
   "metadata": {},
   "outputs": [
    {
     "name": "stdout",
     "output_type": "stream",
     "text": [
      "congrats you are Pass\n"
     ]
    }
   ],
   "source": [
    "marks = int(input('Enter your marks'))\n",
    "\n",
    "\n",
    "if marks > 40:\n",
    "    print('congrats you are Pass')\n",
    "\n",
    "else:\n",
    "    print('Better luck next time')"
   ]
  },
  {
   "attachments": {},
   "cell_type": "markdown",
   "id": "023ce95f",
   "metadata": {},
   "source": [
    "16 ElIf statement"
   ]
  },
  {
   "cell_type": "code",
   "execution_count": 29,
   "id": "ec5d69df",
   "metadata": {},
   "outputs": [
    {
     "name": "stdout",
     "output_type": "stream",
     "text": [
      "this number is higher  :\n",
      "this number is higher  :\n",
      "this number is higher  :\n",
      "this number is higher  :\n",
      "this number is higher  :\n",
      "this number is higher  :\n",
      "this number is higher  :\n",
      "this number is higher  :\n",
      "this number is higher  :\n",
      "this number is higher  :\n",
      "this number is higher  :\n",
      "this number is higher  :\n",
      "this number is higher  :\n",
      "Congrats hou are lucky to guess the number\n"
     ]
    }
   ],
   "source": [
    "# Number gessing game with Elif statement \n",
    "import random\n",
    "n = random.randrange(1,10)\n",
    "\n",
    "guess = int(input('pls enter your number'))\n",
    "\n",
    "while n != guess:\n",
    "    if guess < n:\n",
    "        print('The number is looks smaller: ')\n",
    "        guess = int(input('Pls enter any other number'))\n",
    "    elif guess > n:\n",
    "        print('this number is higher  :')\n",
    "        guess = int(input('Pls enter your new number'))\n",
    "    else:\n",
    "        break\n",
    "print('Congrats hou are lucky to guess the number')"
   ]
  },
  {
   "cell_type": "code",
   "execution_count": 31,
   "id": "7a2d190d",
   "metadata": {},
   "outputs": [
    {
     "name": "stdout",
     "output_type": "stream",
     "text": [
      "-2\n",
      "Thank you for time!!!\n"
     ]
    }
   ],
   "source": [
    "#ElIf statement Example\n",
    "num1 = int(input('Enter the any number'))\n",
    "num2 = int(input('Enter the other number'))\n",
    "operator = input('Enter the above one ( + , -, * , / )')\n",
    "\n",
    "\n",
    "if operator == '+':\n",
    "    print(num1 + num2)\n",
    "elif operator == '-':\n",
    "    print(num1-num2)\n",
    "elif operator == '/':\n",
    "    print(num1/num2)\n",
    "elif operator == '*':\n",
    "    print(num1*num2)\n",
    "print('Thank you for time!!!')"
   ]
  },
  {
   "cell_type": "code",
   "execution_count": 32,
   "id": "84fd459b",
   "metadata": {},
   "outputs": [
    {
     "data": {
      "text/plain": [
       "2"
      ]
     },
     "execution_count": 32,
     "metadata": {},
     "output_type": "execute_result"
    }
   ],
   "source": [
    "n = list(range(20))\n",
    "n.pop(2)\n"
   ]
  },
  {
   "cell_type": "code",
   "execution_count": 11,
   "id": "4327f3d9",
   "metadata": {},
   "outputs": [
    {
     "data": {
      "text/plain": [
       "[0, 1, 3, 4, 5, 6, 7, 8, 9, 10, 11, 12, 13, 14, 15, 16, 17, 18, 19]"
      ]
     },
     "execution_count": 11,
     "metadata": {},
     "output_type": "execute_result"
    }
   ],
   "source": [
    "n"
   ]
  },
  {
   "cell_type": "code",
   "execution_count": 5,
   "id": "b960f84c",
   "metadata": {},
   "outputs": [
    {
     "data": {
      "text/plain": [
       "[2, 5, 8]"
      ]
     },
     "execution_count": 5,
     "metadata": {},
     "output_type": "execute_result"
    }
   ],
   "source": [
    "m = list(range(2,10,3))\n",
    "m"
   ]
  },
  {
   "cell_type": "markdown",
   "id": "2642da76",
   "metadata": {},
   "source": [
    "20.0   For and while loop statement "
   ]
  },
  {
   "cell_type": "code",
   "execution_count": 21,
   "id": "c7bf5fff",
   "metadata": {},
   "outputs": [
    {
     "name": "stdout",
     "output_type": "stream",
     "text": [
      "i don\n",
      "t have mobile 0\n",
      "i don\n",
      "t have mobile 1\n",
      "i don\n",
      "t have mobile 2\n",
      "i don\n",
      "t have mobile 3\n",
      "i don\n",
      "t have mobile 4\n",
      "i don\n",
      "t have mobile 5\n",
      "i don\n",
      "t have mobile 6\n",
      "i don\n",
      "t have mobile 7\n",
      "i don\n",
      "t have mobile 8\n"
     ]
    }
   ],
   "source": [
    "count = 0\n",
    "while count <= 8:\n",
    "    print('i don\\nt have mobile', count)\n",
    "    count += 1"
   ]
  },
  {
   "cell_type": "code",
   "execution_count": 13,
   "id": "86d6867f",
   "metadata": {},
   "outputs": [
    {
     "name": "stdout",
     "output_type": "stream",
     "text": [
      "0\n",
      "1\n",
      "2\n",
      "3\n",
      "4\n",
      "5\n",
      "6\n",
      "7\n",
      "8\n",
      "9\n"
     ]
    }
   ],
   "source": [
    "for i in range(10):\n",
    "    print(i)"
   ]
  },
  {
   "cell_type": "markdown",
   "id": "c5a0e900",
   "metadata": {},
   "source": [
    "21 Functiona [ def ]"
   ]
  },
  {
   "cell_type": "code",
   "execution_count": 44,
   "id": "ce76f96d",
   "metadata": {},
   "outputs": [],
   "source": [
    "a = 4\n",
    "b = 8 \n",
    "\n",
    "# def add(a,b):\n",
    "#     print(a+b)\n",
    "\n",
    "def jkl ( a, b):\n",
    "    c = a * b\n",
    "    return c"
   ]
  },
  {
   "cell_type": "code",
   "execution_count": 45,
   "id": "eb35317f",
   "metadata": {},
   "outputs": [
    {
     "data": {
      "text/plain": [
       "100"
      ]
     },
     "execution_count": 45,
     "metadata": {},
     "output_type": "execute_result"
    }
   ],
   "source": [
    "jkl(10,10)"
   ]
  },
  {
   "cell_type": "code",
   "execution_count": 46,
   "id": "af82e1f6",
   "metadata": {},
   "outputs": [],
   "source": [
    "def twicenum(a,c):\n",
    "    b = a * c\n",
    "    print('above is the twice number')\n",
    "    return b\n"
   ]
  },
  {
   "cell_type": "code",
   "execution_count": 49,
   "id": "32e29808",
   "metadata": {},
   "outputs": [
    {
     "name": "stdout",
     "output_type": "stream",
     "text": [
      "above is the twice number\n"
     ]
    },
    {
     "data": {
      "text/plain": [
       "30"
      ]
     },
     "execution_count": 49,
     "metadata": {},
     "output_type": "execute_result"
    }
   ],
   "source": [
    "bc = twicenum(jkl(2,3),5)\n",
    "bc"
   ]
  },
  {
   "cell_type": "markdown",
   "id": "a4d09b2a",
   "metadata": {},
   "source": [
    "25 Modules"
   ]
  },
  {
   "cell_type": "code",
   "execution_count": 51,
   "id": "1d0011de",
   "metadata": {},
   "outputs": [
    {
     "ename": "TypeError",
     "evalue": "sys.setrecursionlimit() takes exactly one argument (0 given)",
     "output_type": "error",
     "traceback": [
      "\u001b[1;31m---------------------------------------------------------------------------\u001b[0m",
      "\u001b[1;31mTypeError\u001b[0m                                 Traceback (most recent call last)",
      "\u001b[1;32mc:\\Users\\Ravi Nadageri\\Desktop\\Py_Practice _file\\TuteDude.ipynb Cell 25\u001b[0m in \u001b[0;36m<cell line: 4>\u001b[1;34m()\u001b[0m\n\u001b[0;32m      <a href='vscode-notebook-cell:/c%3A/Users/Ravi%20Nadageri/Desktop/Py_Practice%20_file/TuteDude.ipynb#X31sZmlsZQ%3D%3D?line=1'>2</a>\u001b[0m s \u001b[39m=\u001b[39m\u001b[39m23\u001b[39m\n\u001b[0;32m      <a href='vscode-notebook-cell:/c%3A/Users/Ravi%20Nadageri/Desktop/Py_Practice%20_file/TuteDude.ipynb#X31sZmlsZQ%3D%3D?line=2'>3</a>\u001b[0m \u001b[39m#Recursion function\u001b[39;00m\n\u001b[1;32m----> <a href='vscode-notebook-cell:/c%3A/Users/Ravi%20Nadageri/Desktop/Py_Practice%20_file/TuteDude.ipynb#X31sZmlsZQ%3D%3D?line=3'>4</a>\u001b[0m sys\u001b[39m.\u001b[39;49msetrecursionlimit()\n\u001b[0;32m      <a href='vscode-notebook-cell:/c%3A/Users/Ravi%20Nadageri/Desktop/Py_Practice%20_file/TuteDude.ipynb#X31sZmlsZQ%3D%3D?line=4'>5</a>\u001b[0m n\u001b[39m=\u001b[39m\u001b[39m0\u001b[39m\n\u001b[0;32m      <a href='vscode-notebook-cell:/c%3A/Users/Ravi%20Nadageri/Desktop/Py_Practice%20_file/TuteDude.ipynb#X31sZmlsZQ%3D%3D?line=6'>7</a>\u001b[0m \u001b[39mdef\u001b[39;00m \u001b[39mpython\u001b[39m():\n",
      "\u001b[1;31mTypeError\u001b[0m: sys.setrecursionlimit() takes exactly one argument (0 given)"
     ]
    }
   ],
   "source": [
    "import sys\n",
    "s =23\n",
    "#Recursion function\n",
    "sys.setrecursionlimit()\n",
    "n=0\n",
    "\n",
    "def python():\n",
    "    global n\n",
    "    n= n+10\n",
    "    print('python',n)\n",
    "    python()\n",
    "\n",
    "python()"
   ]
  },
  {
   "cell_type": "code",
   "execution_count": 52,
   "id": "3496fa60",
   "metadata": {},
   "outputs": [
    {
     "data": {
      "text/plain": [
       "24"
      ]
     },
     "execution_count": 52,
     "metadata": {},
     "output_type": "execute_result"
    }
   ],
   "source": [
    "# Recursion with Factorial\n",
    "\n",
    "def factorial(n):\n",
    "    if n < 2:\n",
    "        return 1\n",
    "    else :\n",
    "        return n*(factorial(n-1))\n",
    "\n",
    "factorial(4)"
   ]
  },
  {
   "cell_type": "markdown",
   "id": "c1d8588c",
   "metadata": {},
   "source": [
    "25 Global and Local variable"
   ]
  },
  {
   "cell_type": "code",
   "execution_count": 54,
   "id": "f9bb72ff",
   "metadata": {},
   "outputs": [
    {
     "name": "stdout",
     "output_type": "stream",
     "text": [
      "Python is fantastic\n"
     ]
    }
   ],
   "source": [
    "# n = 2\n",
    "\n",
    "# def fn():\n",
    "#     n = 5\n",
    "#     print('hear the value of local variable of n = ', n)\n",
    "\n",
    "\n",
    "\n",
    "# fn()\n",
    "\n",
    "# print(' global value of n =', n)\n",
    "\n",
    "x = \"awesome\"\n",
    "\n",
    "def myfunc():\n",
    "  global x\n",
    "  x = \"fantastic\"\n",
    "\n",
    "myfunc()\n",
    "\n",
    "print(\"Python is \" + x)\n"
   ]
  },
  {
   "cell_type": "code",
   "execution_count": 55,
   "id": "5ce3be1f",
   "metadata": {},
   "outputs": [],
   "source": [
    "file = open('guess_a_number_game',mode='r')"
   ]
  },
  {
   "cell_type": "code",
   "execution_count": null,
   "id": "2b1fbe67",
   "metadata": {},
   "outputs": [],
   "source": [
    "readingfile = file.read()\n",
    "readingfileg"
   ]
  },
  {
   "cell_type": "code",
   "execution_count": null,
   "id": "95174e1e",
   "metadata": {},
   "outputs": [],
   "source": [
    "with open('guess_a_number_game') as file2:\n",
    "    readingfile = file2.read()\n",
    "readingfile"
   ]
  },
  {
   "cell_type": "code",
   "execution_count": null,
   "id": "6a82802c",
   "metadata": {},
   "outputs": [],
   "source": [
    "#adding data in to the file\n",
    "\n",
    "file3 = open('guess_a_number_game',mode='w')\n",
    "\n",
    "w_file = file3.write('i am adding something this file')\n",
    "\n",
    "w_file\n",
    "\n",
    "file3.close()"
   ]
  },
  {
   "cell_type": "code",
   "execution_count": null,
   "id": "16061c76",
   "metadata": {},
   "outputs": [],
   "source": [
    "with open('guess_a_number_game') as file3:\n",
    "    readingfile = file3.read()\n",
    "readingfile"
   ]
  },
  {
   "cell_type": "markdown",
   "id": "fabe3da9",
   "metadata": {},
   "source": [
    "36 Dictionary and data structure"
   ]
  },
  {
   "cell_type": "code",
   "execution_count": null,
   "id": "dd94a207",
   "metadata": {},
   "outputs": [],
   "source": [
    "my_dict = {'kay1':'Ravi','Key2':'Baburao','Key3':'Nadageri'}\n",
    "\n",
    "my_dict['key4'] = 'Priyansh'\n",
    "\n",
    "my_dict"
   ]
  },
  {
   "cell_type": "code",
   "execution_count": null,
   "id": "9f1c944e",
   "metadata": {},
   "outputs": [],
   "source": [
    "del(my_dict['Key2'])"
   ]
  },
  {
   "cell_type": "code",
   "execution_count": null,
   "id": "f2f1bb60",
   "metadata": {},
   "outputs": [],
   "source": [
    "my_dict"
   ]
  },
  {
   "cell_type": "code",
   "execution_count": null,
   "id": "46ed6474",
   "metadata": {},
   "outputs": [],
   "source": [
    "my_dict.keys()"
   ]
  },
  {
   "cell_type": "code",
   "execution_count": null,
   "id": "c310a64f",
   "metadata": {},
   "outputs": [],
   "source": [
    "l1 = [ 5,10,15]"
   ]
  },
  {
   "cell_type": "code",
   "execution_count": null,
   "id": "e85f32db",
   "metadata": {},
   "outputs": [],
   "source": [
    "l1.append(16)\n",
    "l1.extend([17,8,19,20,22])"
   ]
  },
  {
   "cell_type": "code",
   "execution_count": null,
   "id": "0d62e8ce",
   "metadata": {},
   "outputs": [],
   "source": [
    "l1[6]"
   ]
  },
  {
   "cell_type": "code",
   "execution_count": null,
   "id": "1cf6fb8b",
   "metadata": {},
   "outputs": [],
   "source": [
    "del l1[6]"
   ]
  },
  {
   "cell_type": "code",
   "execution_count": null,
   "id": "7e0db7f7",
   "metadata": {},
   "outputs": [],
   "source": [
    "l1.remove(22)"
   ]
  },
  {
   "cell_type": "code",
   "execution_count": null,
   "id": "1d4734dd",
   "metadata": {},
   "outputs": [],
   "source": [
    "l1"
   ]
  },
  {
   "cell_type": "code",
   "execution_count": null,
   "id": "01d7aec5",
   "metadata": {},
   "outputs": [],
   "source": [
    "l1.insert(1,'simran')"
   ]
  },
  {
   "cell_type": "code",
   "execution_count": null,
   "id": "015d985e",
   "metadata": {},
   "outputs": [],
   "source": [
    "l1.pop(1)"
   ]
  },
  {
   "cell_type": "code",
   "execution_count": null,
   "id": "b7aa3741",
   "metadata": {},
   "outputs": [],
   "source": [
    "l1.sort()\n",
    "l1"
   ]
  },
  {
   "cell_type": "code",
   "execution_count": null,
   "id": "e563a53d",
   "metadata": {},
   "outputs": [],
   "source": [
    "l1.insert(2,28)"
   ]
  },
  {
   "cell_type": "code",
   "execution_count": null,
   "id": "d997d33a",
   "metadata": {},
   "outputs": [],
   "source": [
    "l1.reverse()\n",
    "l1"
   ]
  },
  {
   "cell_type": "code",
   "execution_count": null,
   "id": "20328a60",
   "metadata": {},
   "outputs": [],
   "source": [
    "print(l1.index(15))"
   ]
  },
  {
   "cell_type": "code",
   "execution_count": null,
   "id": "069c02f3",
   "metadata": {},
   "outputs": [],
   "source": [
    "l1"
   ]
  },
  {
   "cell_type": "code",
   "execution_count": null,
   "id": "5795c43e",
   "metadata": {},
   "outputs": [],
   "source": [
    "l1[0:3]"
   ]
  },
  {
   "cell_type": "code",
   "execution_count": null,
   "id": "0e6fd369",
   "metadata": {},
   "outputs": [],
   "source": [
    "l1"
   ]
  },
  {
   "cell_type": "code",
   "execution_count": null,
   "id": "837fb77f",
   "metadata": {},
   "outputs": [],
   "source": [
    "x = []\n",
    "\n",
    "for i in range(11):\n",
    "    z = i ** 2\n",
    "    x.append(z)\n",
    "\n",
    "print(x)"
   ]
  },
  {
   "cell_type": "code",
   "execution_count": null,
   "id": "797c68e6",
   "metadata": {},
   "outputs": [],
   "source": [
    "y = [ i ** 2 for i in range(11)]\n",
    "y"
   ]
  },
  {
   "cell_type": "code",
   "execution_count": null,
   "id": "e4dd0050",
   "metadata": {},
   "outputs": [],
   "source": [
    "x = []\n",
    "\n",
    "for i in range(11):\n",
    "    if i % 2 == 0:\n",
    "        z = i ** 2\n",
    "        x.append(z)\n",
    "\n",
    "print(x)"
   ]
  },
  {
   "cell_type": "code",
   "execution_count": null,
   "id": "177f6ac8",
   "metadata": {},
   "outputs": [],
   "source": [
    "y = [ i ** 2 for i in range(11) if i%2==0]\n",
    "y"
   ]
  },
  {
   "cell_type": "code",
   "execution_count": null,
   "id": "ddd3d449",
   "metadata": {},
   "outputs": [],
   "source": [
    "set1 = {2,4,6,8,10}\n",
    "set2 = {2,6,8,12,16}\n",
    "print(set1 & set2)"
   ]
  },
  {
   "cell_type": "code",
   "execution_count": null,
   "id": "61d1fa39",
   "metadata": {},
   "outputs": [],
   "source": [
    "print(set1.union(set2))"
   ]
  },
  {
   "cell_type": "code",
   "execution_count": null,
   "id": "98963100",
   "metadata": {},
   "outputs": [],
   "source": [
    "a = ' mice has a very loverly name'"
   ]
  },
  {
   "cell_type": "code",
   "execution_count": null,
   "id": "71f30b79",
   "metadata": {},
   "outputs": [],
   "source": [
    "a.find('e')\n",
    "a.split()\n",
    "a.splitlines()"
   ]
  },
  {
   "cell_type": "code",
   "execution_count": null,
   "id": "a75cfb26",
   "metadata": {},
   "outputs": [],
   "source": [
    "b = 'ravi and ','prisha','went out side'\n",
    "b\n",
    "c = ','"
   ]
  },
  {
   "cell_type": "code",
   "execution_count": null,
   "id": "128eafa9",
   "metadata": {},
   "outputs": [],
   "source": [
    "print(c.join(b))"
   ]
  },
  {
   "cell_type": "code",
   "execution_count": null,
   "id": "51fc81cf",
   "metadata": {},
   "outputs": [],
   "source": [
    "def add(i,j):\n",
    "    return i + j\n",
    "\n",
    "def readd(i,j):\n",
    "    return add(i,j)"
   ]
  },
  {
   "cell_type": "code",
   "execution_count": null,
   "id": "c626017b",
   "metadata": {},
   "outputs": [],
   "source": [
    "readd(42,5)"
   ]
  },
  {
   "cell_type": "code",
   "execution_count": null,
   "id": "057a72fd",
   "metadata": {},
   "outputs": [],
   "source": [
    "numbers = [1,2,3,4,5,6,7,8,9]\n",
    "\n",
    "\n",
    "def even_num(a):\n",
    "    return a%2==0\n",
    "\n",
    "result = filter(even_num,numbers)\n",
    "\n",
    "for s in result:\n",
    "    print(s)"
   ]
  },
  {
   "cell_type": "code",
   "execution_count": null,
   "id": "63fd6906",
   "metadata": {},
   "outputs": [],
   "source": [
    "# function that filters vowels\n",
    "def fun(variable):\n",
    "    letters = ['a', 'e', 'i', 'o', 'u']\n",
    "    if (variable in letters):\n",
    "        return True\n",
    "    else:\n",
    "        return False\n",
    "  \n",
    "  \n",
    "# sequence\n",
    "sequence = ['g', 'e', 'e', 'j', 'k', 's', 'p', 'r']\n",
    "  \n",
    "# using filter function\n",
    "filtered = filter(fun, sequence)\n",
    "  \n",
    "print('The filtered letters are:')\n",
    "for s in filtered:\n",
    "    print(s)\n",
    "\n",
    "fun(sequence)"
   ]
  },
  {
   "cell_type": "code",
   "execution_count": null,
   "id": "ddc84727",
   "metadata": {},
   "outputs": [],
   "source": [
    "\n",
    "# a list contains both even and odd numbers. \n",
    "seq = [0, 1, 2, 3, 5, 8, 13,16]\n",
    "  \n",
    "# find out he even numbers using Lambda function \n",
    "result = filter(lambda x: x%2 == 0 ,seq)\n",
    "\n",
    "print(list(result))\n"
   ]
  },
  {
   "cell_type": "code",
   "execution_count": null,
   "id": "d5636f48",
   "metadata": {},
   "outputs": [],
   "source": [
    "def square (s):\n",
    "    return s ** 2\n",
    "\n",
    "\n",
    "sqr = list(map(square,seq))\n",
    "sqr"
   ]
  },
  {
   "cell_type": "code",
   "execution_count": null,
   "id": "3bebdb74",
   "metadata": {},
   "outputs": [],
   "source": [
    "sqr1 = list(map(lambda x :  x ** 2 , seq))\n",
    "\n",
    "sqr1"
   ]
  },
  {
   "cell_type": "code",
   "execution_count": null,
   "id": "c37265b7",
   "metadata": {},
   "outputs": [],
   "source": [
    "l1 = iter(seq)\n",
    "print(l1.__next__())\n",
    "print(l1.__next__())\n",
    "print(l1.__next__())\n",
    "print(l1.__next__())\n",
    "print(l1.__next__())\n"
   ]
  },
  {
   "cell_type": "markdown",
   "id": "bcfc19dd",
   "metadata": {},
   "source": [
    "Object Oriented Programming "
   ]
  },
  {
   "cell_type": "code",
   "execution_count": null,
   "id": "2af67d7d",
   "metadata": {},
   "outputs": [],
   "source": [
    "class car:\n",
    "    color = 'black'\n",
    "    type = 'SUV'\n",
    "    stear = 'Power'\n",
    "    version = 0\n",
    "    module = 2022\n",
    "\n",
    "car_1 = car\n",
    "print(car_1.type.lower())"
   ]
  },
  {
   "cell_type": "code",
   "execution_count": null,
   "id": "bff115e5",
   "metadata": {},
   "outputs": [],
   "source": [
    "class condition:\n",
    "    n = 5\n",
    "\n",
    "    def cnt(self):\n",
    "        self.n = self.n +5\n",
    "        print('counted present number : ', self.n)\n",
    "\n",
    "c = condition()\n",
    "c.cnt()\n",
    "c.cnt()\n"
   ]
  },
  {
   "cell_type": "code",
   "execution_count": null,
   "id": "cc958716",
   "metadata": {},
   "outputs": [],
   "source": [
    "class const_dict:\n",
    "    x=0\n",
    "\n",
    "    def __init__(self,color,type):\n",
    "        self.color = color\n",
    "        self.type = type\n",
    "        print('constructor')\n",
    "\n",
    "    def __del__(self):\n",
    "        print('Distructor')\n",
    "\n",
    "\n",
    "cm = const_dict('Black','SUV_Safari')\n",
    "\n",
    "print(cm.color.upper())\n",
    "\n",
    "print(cm.type.lower())\n",
    "\n",
    "cn = const_dict('red','sedan')\n",
    "\n",
    "print(cn.color)\n",
    "print(cn.type)\n"
   ]
  },
  {
   "cell_type": "code",
   "execution_count": null,
   "id": "3e368971",
   "metadata": {},
   "outputs": [],
   "source": [
    "def name(name):\n",
    "    print('Hi ', name)\n",
    "\n",
    "print(name('jim'))\n",
    "print(name('sam'))\n",
    "\n",
    "#Object oriented programming \n",
    "print('this is best class')\n",
    "class name:\n",
    "    x=0\n",
    "    name = \" Ravi and Priyansh\"\n",
    "\n",
    "    def __init__(self,z):\n",
    "        self.name = z\n",
    "        print('Hi',z)\n",
    "\n",
    "print(name('Ravi'))\n",
    "\n",
    "print(name('Priyansh'))\n",
    "\n",
    "\n",
    "        "
   ]
  },
  {
   "cell_type": "markdown",
   "id": "9f5d5431",
   "metadata": {},
   "source": [
    "Inheritance"
   ]
  },
  {
   "cell_type": "code",
   "execution_count": null,
   "id": "36692d15",
   "metadata": {},
   "outputs": [],
   "source": [
    "class name:\n",
    "    x=0\n",
    "    name = \" Ravi and Priyansh\"\n",
    "\n",
    "    def __init__(self,z):\n",
    "        self.name = z\n",
    "        print('Hi',z)\n",
    "\n",
    "class foot_score(name):\n",
    "    points = 0\n",
    "\n",
    "    def pts (self):\n",
    "        print(self.name , 'Scores')\n",
    "\n",
    "print(name('sam'))\n",
    "\n",
    "print(foot_score('jim'))\n",
    "\n",
    "foot_score.pts\n"
   ]
  },
  {
   "cell_type": "markdown",
   "id": "3cc520c1",
   "metadata": {},
   "source": [
    "Single level Inheritance"
   ]
  },
  {
   "cell_type": "code",
   "execution_count": null,
   "id": "5f3c79d8",
   "metadata": {},
   "outputs": [],
   "source": [
    "class A():\n",
    "\n",
    "    def stage1(self):\n",
    "        print('this is the stage1')\n",
    "    \n",
    "    def stage2(self):\n",
    "        print('this is the stage2')\n",
    "\n",
    "    def stage3(self):\n",
    "        print('this is the stage3')\n",
    "\n",
    "\n",
    "class B():\n",
    "    def stage4(self):\n",
    "        print('this is the stage4')\n",
    "\n",
    "    def stage5(self):\n",
    "        print('this is the stage5')\n",
    "\n",
    "j = A()\n",
    "print(j.stage1())\n",
    "\n",
    "m = B()\n",
    "m.stage4()\n",
    "\n",
    "class C (A,B):\n",
    "\n",
    "    def stage6(self):\n",
    "        print('this is stage of 6')\n",
    "\n",
    "c = C()\n",
    "c.stage2()\n",
    "c.stage4()"
   ]
  },
  {
   "cell_type": "code",
   "execution_count": null,
   "id": "1d76aca9",
   "metadata": {},
   "outputs": [],
   "source": [
    "class veegitables:\n",
    "\n",
    "    def __init__(self,carrot,beans):\n",
    "        self.carrot = carrot\n",
    "        self.beans = beans\n",
    "\n",
    "\n",
    "    def __add__(self,other):\n",
    "        carrot = self.carrot + other.carrot\n",
    "        beans = self.beans + other.beans\n",
    "        return veegitables(carrot,beans)\n",
    "\n",
    "\n",
    "v1 = veegitables(5,7)\n",
    "\n",
    "v2 = veegitables(10,10)\n",
    "\n",
    "v3 = v1 + v2\n",
    "\n",
    "v3.carrot"
   ]
  },
  {
   "cell_type": "code",
   "execution_count": null,
   "id": "dae7042d",
   "metadata": {},
   "outputs": [],
   "source": [
    "class simple:\n",
    "\n",
    "    def __init__(self) -> None:\n",
    "        self.value_1 = 1\n",
    "        self.value_2 = 2\n",
    "\n",
    "    def __A1__(self):\n",
    "        print('Apple')\n",
    "\n",
    "\n",
    "    def __A2__(self):\n",
    "        print('ball')\n",
    "\n",
    "\n",
    "s = simple()\n",
    "\n",
    "s.__A1__()"
   ]
  },
  {
   "cell_type": "code",
   "execution_count": null,
   "id": "d5739a55",
   "metadata": {},
   "outputs": [],
   "source": [
    "print(dir(s))"
   ]
  },
  {
   "cell_type": "code",
   "execution_count": null,
   "id": "a2e84c80",
   "metadata": {},
   "outputs": [],
   "source": [
    "import regex as re"
   ]
  },
  {
   "cell_type": "code",
   "execution_count": null,
   "id": "a7aaf665",
   "metadata": {},
   "outputs": [],
   "source": [
    "thislist = [\"apple\", \"banana\", \"cherry\"]\n",
    "mylist = thislist.copy()\n",
    "print(mylist)"
   ]
  },
  {
   "cell_type": "code",
   "execution_count": null,
   "id": "26492261",
   "metadata": {},
   "outputs": [
    {
     "name": "stdout",
     "output_type": "stream",
     "text": [
      "['apple', 'banana', 'cherry']\n"
     ]
    }
   ],
   "source": [
    "thislist = [\"apple\", \"banana\", \"cherry\"]\n",
    "mylist = thislist.copy()\n",
    "print(mylist)"
   ]
  },
  {
   "cell_type": "code",
   "execution_count": null,
   "id": "3aa5691b",
   "metadata": {},
   "outputs": [],
   "source": [
    "mylist.append('ladu')"
   ]
  },
  {
   "cell_type": "code",
   "execution_count": null,
   "id": "bdd7d2f9",
   "metadata": {},
   "outputs": [
    {
     "data": {
      "text/plain": [
       "['apple', 'banana', 'cherry', 'ladu']"
      ]
     },
     "execution_count": 14,
     "metadata": {},
     "output_type": "execute_result"
    }
   ],
   "source": [
    "mylist"
   ]
  },
  {
   "cell_type": "code",
   "execution_count": null,
   "id": "1fdc6693",
   "metadata": {},
   "outputs": [
    {
     "data": {
      "text/plain": [
       "['apple', 'banana', 'cherry']"
      ]
     },
     "execution_count": 15,
     "metadata": {},
     "output_type": "execute_result"
    }
   ],
   "source": [
    "thislist"
   ]
  },
  {
   "cell_type": "code",
   "execution_count": null,
   "id": "7c8b62e2",
   "metadata": {},
   "outputs": [
    {
     "name": "stdout",
     "output_type": "stream",
     "text": [
      "['apple', 'orange', 'banana', 'cherry']\n"
     ]
    }
   ],
   "source": [
    "thislist = [\"apple\", \"banana\", \"cherry\"]\n",
    "thislist.insert(1, \"orange\")\n",
    "print(thislist)"
   ]
  },
  {
   "cell_type": "code",
   "execution_count": null,
   "id": "a8094a1c",
   "metadata": {},
   "outputs": [
    {
     "data": {
      "text/plain": [
       "['apple', 'orange', 'banana', 'cherry']"
      ]
     },
     "execution_count": 17,
     "metadata": {},
     "output_type": "execute_result"
    }
   ],
   "source": [
    "thislist"
   ]
  },
  {
   "cell_type": "code",
   "execution_count": null,
   "id": "c1fed43e",
   "metadata": {},
   "outputs": [
    {
     "name": "stdout",
     "output_type": "stream",
     "text": [
      "True\n"
     ]
    }
   ],
   "source": [
    "import re\n",
    "\n",
    "pattern = 'apple'\n",
    "if re.search(pattern,'ballapple',flags=0):\n",
    "    print('True')\n",
    "else:\n",
    "    print('False')"
   ]
  },
  {
   "cell_type": "code",
   "execution_count": null,
   "id": "7b76c18e",
   "metadata": {},
   "outputs": [
    {
     "name": "stdout",
     "output_type": "stream",
     "text": [
      "now the the output is Hello this is a very a gentle cat\n",
      "before update Hello this is a very a gentle dog\n"
     ]
    }
   ],
   "source": [
    "import re\n",
    "\n",
    "from xmlrpc.server import DocCGIXMLRPCRequestHandler\n",
    "\n",
    "\n",
    "string = 'Hello this is a very a gentle dog'\n",
    "#replace the word 'dog' with the 'cat'.\n",
    "pattern = 'dog' \n",
    "\n",
    "print('now the the output is', re.sub(pattern,'cat',string,count=0,flags=0))\n",
    "\n",
    "print(\"before update\", string)\n"
   ]
  },
  {
   "cell_type": "code",
   "execution_count": 1,
   "id": "c32f2ed1",
   "metadata": {},
   "outputs": [
    {
     "name": "stdout",
     "output_type": "stream",
     "text": [
      "[]\n"
     ]
    }
   ],
   "source": [
    "# character and sequence of caharactor\n",
    "import re\n",
    "\n",
    "string = 'i have a 56 dog'\n",
    "pattern = 'a+'\n",
    "\n",
    "print(re.findall('pattern',string,flags=0))"
   ]
  },
  {
   "cell_type": "code",
   "execution_count": null,
   "id": "075a6f60",
   "metadata": {},
   "outputs": [],
   "source": [
    "#TKINTER\n",
    "\n",
    "from tkinter import *\n",
    "\n",
    "window = Tk()\n",
    "window.title('my Stuff')\n",
    "window.geometry('700x500')\n",
    "window.config(bg='orange')\n",
    "\n",
    "inp = Label(window , text=' Hello This is the Ravi ')\n",
    "inp.pack()\n",
    "\n",
    "\n",
    "mainloop()"
   ]
  },
  {
   "cell_type": "code",
   "execution_count": null,
   "id": "49ec382e",
   "metadata": {},
   "outputs": [],
   "source": [
    "from cgi import test\n",
    "from tkinter import *\n",
    "from token import DOT #step 1\n",
    "\n",
    "window = Tk()  #step 2\n",
    "\n",
    "window.title('first appear')\n",
    "window.geometry('500x700')\n",
    "window.config(bg='gray')\n",
    "\n",
    "#create a frame\n",
    "frame1 = Frame(window ,bg='red', width=300, height=300,cursor='DOTBOX')\n",
    "\n",
    "frame2 = Frame(window, bg='orange', width=300, height=300, cursor= 'DOT')\n",
    "\n",
    "but1 = Button(text='Button1',bg='blue')\n",
    "but1.pack()\n",
    "\n",
    "frame1.pack(side=TOP)\n",
    "frame2.pack(side=BOTTOM)\n",
    "\n",
    "mainloop()\n"
   ]
  },
  {
   "cell_type": "markdown",
   "id": "eac55fa9",
   "metadata": {},
   "source": [
    "Entry Box and Layout"
   ]
  },
  {
   "cell_type": "code",
   "execution_count": null,
   "id": "b0637ef7",
   "metadata": {},
   "outputs": [],
   "source": [
    "import collections\n",
    "from tkinter import *\n",
    "window = Tk()\n",
    "\n",
    "window.geometry(\"250x150\")\n",
    "window.title('Entry Box')\n",
    "\n",
    "label1 = Label(window , text ='email')\n",
    "label2 = Label(window , text ='password')\n",
    "\n",
    "label1.grid(row= 0, column=1)\n",
    "label2.grid(row= 1, column=1)\n",
    "\n",
    "e1 = Entry(window, width=40, borderwidth=5)\n",
    "e1.grid(row=0,column=2)\n",
    "e2 = Entry(window, width=40, borderwidth=5)\n",
    "e2.grid(row=1,column=2)\n",
    "\n",
    "\n",
    "\n",
    "mainloop()"
   ]
  },
  {
   "cell_type": "markdown",
   "id": "6fea8d04",
   "metadata": {},
   "source": []
  },
  {
   "cell_type": "code",
   "execution_count": null,
   "id": "753d1901",
   "metadata": {},
   "outputs": [],
   "source": [
    "from tkinter import *\n",
    "window = Tk()\n",
    "\n",
    "window.geometry(\"250x150\")\n",
    "window.title('Label-1')\n",
    "\n",
    "label1 = Label(window , text ='on x axis',bg='yellow',fg='red')\n",
    "\n",
    "label2 = Label(window , text ='leb-2',bg='green',fg='red')\n",
    "\n",
    "label1.pack(side=TOP, fill=X, expand=False)\n",
    "label2.pack(side=LEFT, fill=Y, expand=False)\n",
    "\n",
    "\n",
    "mainloop()"
   ]
  },
  {
   "cell_type": "code",
   "execution_count": null,
   "id": "d637f0c2",
   "metadata": {},
   "outputs": [],
   "source": [
    "from tkinter import *\n",
    "window = Tk()\n",
    "\n",
    "window.geometry(\"250x150\")\n",
    "window.title('Button ex')\n",
    "def log_entry():\n",
    "    print('You have succefuolly Loged In')\n",
    "\n",
    "but1=Button(window, text='LogIn', command=log_entry,fg='Black',bg='green',border=True)\n",
    "but1.place(x=100,y=100)\n",
    "but1.pack()\n",
    "\n",
    "mainloop()"
   ]
  },
  {
   "cell_type": "code",
   "execution_count": null,
   "id": "bb784266",
   "metadata": {},
   "outputs": [],
   "source": [
    "from tkinter import *\n",
    "window = Tk()\n",
    "\n",
    "c = Canvas(window, width=500,height=500)\n",
    "c.pack()\n",
    "window.title('Draw')\n",
    "c.create_line(0,0,500,500,width=5,fill='green',dash=(3,3))\n",
    "c.create_line(0,500,500,0,width=5,fill='blue',dash=(3,3))\n",
    "c.create_rectangle(450,320,100,120,fill='red',outline='yellow')\n",
    "\n",
    "\n",
    "mainloop()"
   ]
  },
  {
   "cell_type": "code",
   "execution_count": null,
   "id": "6f611120",
   "metadata": {},
   "outputs": [],
   "source": [
    "from tkinter import *\n",
    "\n",
    "window = Tk()\n",
    "\n",
    "window.geometry('500x500')\n",
    "window.title('Checkbutton')\n",
    "\n",
    "chk_box_1 = IntVar\n",
    "chk_box_2 = IntVar\n",
    "chk_box_3 = IntVar\n",
    "\n",
    "chk_but_1 = Checkbutton(window, text='Ravi',width=5,height=2,onvalue=1,offvalue=0)\n",
    "chk_but_2 = Checkbutton(window, text='Baburao',width=5,height=2,onvalue=1,offvalue=0)\n",
    "chk_but_3 = Checkbutton(window, text='Nadageri',width=5,height=2,onvalue=1,offvalue=0)\n",
    "\n",
    "chk_but_1.pack()\n",
    "chk_but_2.pack()\n",
    "chk_but_3.pack()\n",
    "\n",
    "# label1 = Label(window , text ='give the input',bg='yellow',fg='red')\n",
    "\n",
    "# label2 = Label(window , text ='leb-2',bg='green',fg='red')\n",
    "\n",
    "# label1.pack(side=TOP, fill=X, expand=False)\n",
    "# label2.pack(side=LEFT, fill=Y, expand=False)\n",
    "\n",
    "\n",
    "\n",
    "mainloop()"
   ]
  },
  {
   "cell_type": "markdown",
   "id": "732fc44c",
   "metadata": {},
   "source": [
    "Calculator Using Tkinter"
   ]
  },
  {
   "cell_type": "code",
   "execution_count": 77,
   "id": "68162721",
   "metadata": {},
   "outputs": [],
   "source": [
    "from tkinter import *\n",
    "window = Tk()\n",
    "window.geometry('500x500')\n",
    "\n",
    "#Entry box\n",
    "e = Entry(window, width=56, borderwidth=5)\n",
    "e.place(x=0, y=0)\n",
    "\n",
    "#create Buttons along with a function to store the number after click the button\n",
    "def click(num):\n",
    "    result = e.get()\n",
    "    e.delete(0, END)\n",
    "    e.insert(0, str(result) + str(num))\n",
    "\n",
    "\n",
    "\n",
    "\n",
    "b = Button(window, text='1',width=10,command=lambda:click(1))\n",
    "b.place(x=10, y=60)\n",
    "b = Button(window, text='2',width=10,command=lambda:click(2))\n",
    "b.place(x=80, y=60)\n",
    "b = Button(window, text='3',width=10,command=lambda:click(3))\n",
    "b.place(x=150, y=60)\n",
    "b = Button(window, text='4',width=10,command=lambda:click(4))\n",
    "b.place(x=10, y=120)\n",
    "b = Button(window, text='5',width=10,command=lambda:click(5))\n",
    "b.place(x=80, y=120)\n",
    "b = Button(window, text='6',width=10,command=lambda:click(6))\n",
    "b.place(x=150, y=120)\n",
    "b = Button(window, text='7',width=10,command=lambda:click(7))\n",
    "b.place(x=10, y=180)\n",
    "b = Button(window, text='8',width=10,command=lambda:click(8))\n",
    "b.place(x=80, y=180)\n",
    "b = Button(window, text='9',width=10,command=lambda:click(9))\n",
    "b.place(x=150, y=180)\n",
    "b = Button(window, text='0',width=10,command=lambda:click(0))\n",
    "b.place(x=10, y=240)\n",
    "\n",
    "#Operator\n",
    "\n",
    "# write a fuction to store the temperary n1 value and let declare global variable\n",
    "\n",
    "# lets define a function for addition\n",
    "def add():\n",
    "    n1 = e.get()    \n",
    "    global func\n",
    "    func = 'addition'\n",
    "    global i\n",
    "    i = int(n1)\n",
    "    e.delete(0, END)\n",
    "\n",
    "b = Button(window, text='+',width=10 , command= add)\n",
    "b.place(x=80, y=240)\n",
    "\n",
    "# lets define a function for substraction\n",
    "def sub():\n",
    "    n1 = e.get()\n",
    "    global func\n",
    "    func = 'substraction'    \n",
    "    global i\n",
    "    i = int(n1)\n",
    "    e.delete(0, END)\n",
    "\n",
    "b = Button(window, text='-',width=10, command= sub  )\n",
    "b.place(x=150, y=240)\n",
    "\n",
    "# lets define a function for multiplication\n",
    "def mul():\n",
    "    n1 = e.get()\n",
    "    global func\n",
    "    func = 'multiplication'\n",
    "    global i\n",
    "    i = int(n1)\n",
    "    e.delete(0, END)\n",
    "\n",
    "b = Button(window, text='*',width=10, command= mul)\n",
    "b.place(x=10, y=300)\n",
    "\n",
    "# lets define a function for devision\n",
    "def dev():\n",
    "    n1 = e.get()\n",
    "    global func\n",
    "    func = 'devision'\n",
    "    global i\n",
    "    i = int(n1)\n",
    "    e.delete(0, END)\n",
    "b = Button(window, text='/',width=10, command= dev)\n",
    "b.place(x=80, y=300)\n",
    "\n",
    "# the below one will be the main fuction where we use the above all with conditions \n",
    "\n",
    "def equal():\n",
    "    n2 = e.get()\n",
    "    e.delete(0, END)\n",
    "    if func == 'addition':\n",
    "        e.insert(0,i + int(n2))\n",
    "    elif func == 'substraction':\n",
    "        e.insert(0,i - int(n2))\n",
    "    elif func == 'multiplication':\n",
    "        e.insert(0,i * int(n2))\n",
    "    elif func == 'division':\n",
    "        e.insert(0, i / int(n2))\n",
    "\n",
    "b = Button(window, text='=',width=10, command= equal)\n",
    "b.place(x=150, y=300)\n",
    "\n",
    "# Whenever we click to clear all the appeared valud will be clear\n",
    "def clear():\n",
    "    e.delete(0,END)\n",
    "\n",
    "b = Button(window, text='Clear',width=10, command= clear)\n",
    "b.place(x=0, y=360)\n",
    "\n",
    "mainloop()"
   ]
  },
  {
   "cell_type": "code",
   "execution_count": 1,
   "id": "c52d48ef",
   "metadata": {},
   "outputs": [
    {
     "name": "stdout",
     "output_type": "stream",
     "text": [
      "connected succesfully\n"
     ]
    }
   ],
   "source": [
    "import psycopg2\n",
    "connect = psycopg2.connect(dbname='postgres',user='postgres',host='localhost',password='Nadageri_33' )\n",
    "\n",
    "print('connected succesfully')"
   ]
  },
  {
   "cell_type": "code",
   "execution_count": 2,
   "id": "7c42baca",
   "metadata": {},
   "outputs": [
    {
     "name": "stdout",
     "output_type": "stream",
     "text": [
      "Collecting psycopg2\n",
      "  Downloading psycopg2-2.9.5-cp310-cp310-win_amd64.whl (1.2 MB)\n",
      "     ---------------------------------------- 1.2/1.2 MB 1.1 MB/s eta 0:00:00\n",
      "Installing collected packages: psycopg2\n",
      "Successfully installed psycopg2-2.9.5\n"
     ]
    },
    {
     "name": "stderr",
     "output_type": "stream",
     "text": [
      "WARNING: There was an error checking the latest version of pip.\n"
     ]
    }
   ],
   "source": [
    "import psycopg2\n",
    "conn = psycopg2.connect(dbname='postgres',user='postgres',host='localhost',password='Nadageri_33' )\n",
    "\n",
    "cursor = conn.cursor()\n",
    "\n",
    "cursor.execute('''create table employer (name Text, Age int, Id int, mail text);''')\n",
    "\n",
    "print('table has been created succesfully')\n",
    "conn.commit()\n",
    "conn.close()"
   ]
  },
  {
   "cell_type": "code",
   "execution_count": 21,
   "id": "ce6e0645",
   "metadata": {},
   "outputs": [
    {
     "data": {
      "text/html": [
       "<div>\n",
       "<style scoped>\n",
       "    .dataframe tbody tr th:only-of-type {\n",
       "        vertical-align: middle;\n",
       "    }\n",
       "\n",
       "    .dataframe tbody tr th {\n",
       "        vertical-align: top;\n",
       "    }\n",
       "\n",
       "    .dataframe thead th {\n",
       "        text-align: right;\n",
       "    }\n",
       "</style>\n",
       "<table border=\"1\" class=\"dataframe\">\n",
       "  <thead>\n",
       "    <tr style=\"text-align: right;\">\n",
       "      <th></th>\n",
       "      <th>Sr.No</th>\n",
       "      <th>A</th>\n",
       "      <th>B</th>\n",
       "      <th>C</th>\n",
       "      <th>D</th>\n",
       "    </tr>\n",
       "  </thead>\n",
       "  <tbody>\n",
       "    <tr>\n",
       "      <th>0</th>\n",
       "      <td>1</td>\n",
       "      <td>2</td>\n",
       "      <td>3</td>\n",
       "      <td>5</td>\n",
       "      <td>45</td>\n",
       "    </tr>\n",
       "    <tr>\n",
       "      <th>1</th>\n",
       "      <td>2</td>\n",
       "      <td>4</td>\n",
       "      <td>6</td>\n",
       "      <td>10</td>\n",
       "      <td>26</td>\n",
       "    </tr>\n",
       "    <tr>\n",
       "      <th>2</th>\n",
       "      <td>3</td>\n",
       "      <td>6</td>\n",
       "      <td>9</td>\n",
       "      <td>15</td>\n",
       "      <td>86</td>\n",
       "    </tr>\n",
       "    <tr>\n",
       "      <th>3</th>\n",
       "      <td>4</td>\n",
       "      <td>8</td>\n",
       "      <td>12</td>\n",
       "      <td>20</td>\n",
       "      <td>95</td>\n",
       "    </tr>\n",
       "    <tr>\n",
       "      <th>4</th>\n",
       "      <td>5</td>\n",
       "      <td>10</td>\n",
       "      <td>15</td>\n",
       "      <td>25</td>\n",
       "      <td>45</td>\n",
       "    </tr>\n",
       "    <tr>\n",
       "      <th>5</th>\n",
       "      <td>6</td>\n",
       "      <td>12</td>\n",
       "      <td>18</td>\n",
       "      <td>30</td>\n",
       "      <td>68</td>\n",
       "    </tr>\n",
       "    <tr>\n",
       "      <th>6</th>\n",
       "      <td>7</td>\n",
       "      <td>14</td>\n",
       "      <td>21</td>\n",
       "      <td>35</td>\n",
       "      <td>78</td>\n",
       "    </tr>\n",
       "    <tr>\n",
       "      <th>7</th>\n",
       "      <td>8</td>\n",
       "      <td>16</td>\n",
       "      <td>24</td>\n",
       "      <td>40</td>\n",
       "      <td>75</td>\n",
       "    </tr>\n",
       "    <tr>\n",
       "      <th>8</th>\n",
       "      <td>9</td>\n",
       "      <td>18</td>\n",
       "      <td>27</td>\n",
       "      <td>45</td>\n",
       "      <td>12</td>\n",
       "    </tr>\n",
       "    <tr>\n",
       "      <th>9</th>\n",
       "      <td>10</td>\n",
       "      <td>20</td>\n",
       "      <td>30</td>\n",
       "      <td>50</td>\n",
       "      <td>5</td>\n",
       "    </tr>\n",
       "  </tbody>\n",
       "</table>\n",
       "</div>"
      ],
      "text/plain": [
       "   Sr.No    A   B   C   D\n",
       "0       1   2   3   5  45\n",
       "1       2   4   6  10  26\n",
       "2       3   6   9  15  86\n",
       "3       4   8  12  20  95\n",
       "4       5  10  15  25  45\n",
       "5       6  12  18  30  68\n",
       "6       7  14  21  35  78\n",
       "7       8  16  24  40  75\n",
       "8       9  18  27  45  12\n",
       "9      10  20  30  50   5"
      ]
     },
     "execution_count": 21,
     "metadata": {},
     "output_type": "execute_result"
    }
   ],
   "source": [
    "import pandas as pd\n",
    "import numpy as np\n",
    "\n",
    "df = pd.read_csv('C:\\\\Users\\\\Ravi Nadageri\\\\Desktop\\\\Py_Practice _file\\\\binning.csv')\n",
    "df"
   ]
  },
  {
   "cell_type": "markdown",
   "id": "38d97566",
   "metadata": {},
   "source": []
  },
  {
   "cell_type": "code",
   "execution_count": 6,
   "id": "714cc407",
   "metadata": {},
   "outputs": [],
   "source": [
    "bins = np.linspace(min(df['D']),max(df['D']),4)"
   ]
  },
  {
   "cell_type": "code",
   "execution_count": 11,
   "id": "ef4e0261",
   "metadata": {},
   "outputs": [
    {
     "data": {
      "text/html": [
       "<div>\n",
       "<style scoped>\n",
       "    .dataframe tbody tr th:only-of-type {\n",
       "        vertical-align: middle;\n",
       "    }\n",
       "\n",
       "    .dataframe tbody tr th {\n",
       "        vertical-align: top;\n",
       "    }\n",
       "\n",
       "    .dataframe thead th {\n",
       "        text-align: right;\n",
       "    }\n",
       "</style>\n",
       "<table border=\"1\" class=\"dataframe\">\n",
       "  <thead>\n",
       "    <tr style=\"text-align: right;\">\n",
       "      <th></th>\n",
       "      <th>5</th>\n",
       "      <th>12</th>\n",
       "      <th>26</th>\n",
       "      <th>45</th>\n",
       "      <th>68</th>\n",
       "      <th>75</th>\n",
       "      <th>78</th>\n",
       "      <th>86</th>\n",
       "      <th>95</th>\n",
       "    </tr>\n",
       "  </thead>\n",
       "  <tbody>\n",
       "    <tr>\n",
       "      <th>0</th>\n",
       "      <td>0</td>\n",
       "      <td>0</td>\n",
       "      <td>0</td>\n",
       "      <td>1</td>\n",
       "      <td>0</td>\n",
       "      <td>0</td>\n",
       "      <td>0</td>\n",
       "      <td>0</td>\n",
       "      <td>0</td>\n",
       "    </tr>\n",
       "    <tr>\n",
       "      <th>1</th>\n",
       "      <td>0</td>\n",
       "      <td>0</td>\n",
       "      <td>1</td>\n",
       "      <td>0</td>\n",
       "      <td>0</td>\n",
       "      <td>0</td>\n",
       "      <td>0</td>\n",
       "      <td>0</td>\n",
       "      <td>0</td>\n",
       "    </tr>\n",
       "    <tr>\n",
       "      <th>2</th>\n",
       "      <td>0</td>\n",
       "      <td>0</td>\n",
       "      <td>0</td>\n",
       "      <td>0</td>\n",
       "      <td>0</td>\n",
       "      <td>0</td>\n",
       "      <td>0</td>\n",
       "      <td>1</td>\n",
       "      <td>0</td>\n",
       "    </tr>\n",
       "    <tr>\n",
       "      <th>3</th>\n",
       "      <td>0</td>\n",
       "      <td>0</td>\n",
       "      <td>0</td>\n",
       "      <td>0</td>\n",
       "      <td>0</td>\n",
       "      <td>0</td>\n",
       "      <td>0</td>\n",
       "      <td>0</td>\n",
       "      <td>1</td>\n",
       "    </tr>\n",
       "    <tr>\n",
       "      <th>4</th>\n",
       "      <td>0</td>\n",
       "      <td>0</td>\n",
       "      <td>0</td>\n",
       "      <td>1</td>\n",
       "      <td>0</td>\n",
       "      <td>0</td>\n",
       "      <td>0</td>\n",
       "      <td>0</td>\n",
       "      <td>0</td>\n",
       "    </tr>\n",
       "    <tr>\n",
       "      <th>5</th>\n",
       "      <td>0</td>\n",
       "      <td>0</td>\n",
       "      <td>0</td>\n",
       "      <td>0</td>\n",
       "      <td>1</td>\n",
       "      <td>0</td>\n",
       "      <td>0</td>\n",
       "      <td>0</td>\n",
       "      <td>0</td>\n",
       "    </tr>\n",
       "    <tr>\n",
       "      <th>6</th>\n",
       "      <td>0</td>\n",
       "      <td>0</td>\n",
       "      <td>0</td>\n",
       "      <td>0</td>\n",
       "      <td>0</td>\n",
       "      <td>0</td>\n",
       "      <td>1</td>\n",
       "      <td>0</td>\n",
       "      <td>0</td>\n",
       "    </tr>\n",
       "    <tr>\n",
       "      <th>7</th>\n",
       "      <td>0</td>\n",
       "      <td>0</td>\n",
       "      <td>0</td>\n",
       "      <td>0</td>\n",
       "      <td>0</td>\n",
       "      <td>1</td>\n",
       "      <td>0</td>\n",
       "      <td>0</td>\n",
       "      <td>0</td>\n",
       "    </tr>\n",
       "    <tr>\n",
       "      <th>8</th>\n",
       "      <td>0</td>\n",
       "      <td>1</td>\n",
       "      <td>0</td>\n",
       "      <td>0</td>\n",
       "      <td>0</td>\n",
       "      <td>0</td>\n",
       "      <td>0</td>\n",
       "      <td>0</td>\n",
       "      <td>0</td>\n",
       "    </tr>\n",
       "    <tr>\n",
       "      <th>9</th>\n",
       "      <td>1</td>\n",
       "      <td>0</td>\n",
       "      <td>0</td>\n",
       "      <td>0</td>\n",
       "      <td>0</td>\n",
       "      <td>0</td>\n",
       "      <td>0</td>\n",
       "      <td>0</td>\n",
       "      <td>0</td>\n",
       "    </tr>\n",
       "  </tbody>\n",
       "</table>\n",
       "</div>"
      ],
      "text/plain": [
       "   5   12  26  45  68  75  78  86  95\n",
       "0   0   0   0   1   0   0   0   0   0\n",
       "1   0   0   1   0   0   0   0   0   0\n",
       "2   0   0   0   0   0   0   0   1   0\n",
       "3   0   0   0   0   0   0   0   0   1\n",
       "4   0   0   0   1   0   0   0   0   0\n",
       "5   0   0   0   0   1   0   0   0   0\n",
       "6   0   0   0   0   0   0   1   0   0\n",
       "7   0   0   0   0   0   1   0   0   0\n",
       "8   0   1   0   0   0   0   0   0   0\n",
       "9   1   0   0   0   0   0   0   0   0"
      ]
     },
     "execution_count": 11,
     "metadata": {},
     "output_type": "execute_result"
    }
   ],
   "source": [
    "label = ['low','medium','high']\n",
    "\n",
    "df['binning'] = pd.cut(df['D'],bins,labels=label, include_lowest='TRUE')\n",
    "df\n",
    "m = pd.get_dummies(df['D'])\n",
    "m"
   ]
  },
  {
   "cell_type": "code",
   "execution_count": 41,
   "id": "c92550f6",
   "metadata": {},
   "outputs": [],
   "source": [
    "#\"C:\\Users\\Ravi Nadageri\\Downloads\\Files\\CONTENT FILES\\auto-mpg.csv\"\n",
    "\n",
    "#df['binning'] = pd.cut(df['D'],bins,labels=label, include_lowest='TRUE')\n",
    "import pandas as pd\n",
    "import numpy as np\n",
    "import matplotlib.pyplot as plt\n",
    "import seaborn as sns\n",
    "\n",
    "df = pd.read_csv('C:\\\\Users\\\\Ravi Nadageri\\\\Downloads\\\\Files\\\\CONTENT FILES\\\\auto-mpg.csv')\n"
   ]
  },
  {
   "cell_type": "code",
   "execution_count": 42,
   "id": "449efaab",
   "metadata": {},
   "outputs": [
    {
     "data": {
      "text/html": [
       "<div>\n",
       "<style scoped>\n",
       "    .dataframe tbody tr th:only-of-type {\n",
       "        vertical-align: middle;\n",
       "    }\n",
       "\n",
       "    .dataframe tbody tr th {\n",
       "        vertical-align: top;\n",
       "    }\n",
       "\n",
       "    .dataframe thead th {\n",
       "        text-align: right;\n",
       "    }\n",
       "</style>\n",
       "<table border=\"1\" class=\"dataframe\">\n",
       "  <thead>\n",
       "    <tr style=\"text-align: right;\">\n",
       "      <th></th>\n",
       "      <th>mpg</th>\n",
       "      <th>cylinders</th>\n",
       "      <th>displacement</th>\n",
       "      <th>horsepower</th>\n",
       "      <th>weight</th>\n",
       "      <th>acceleration</th>\n",
       "      <th>model year</th>\n",
       "      <th>origin</th>\n",
       "      <th>car name</th>\n",
       "    </tr>\n",
       "  </thead>\n",
       "  <tbody>\n",
       "    <tr>\n",
       "      <th>0</th>\n",
       "      <td>18.0</td>\n",
       "      <td>8</td>\n",
       "      <td>307.0</td>\n",
       "      <td>130</td>\n",
       "      <td>3504</td>\n",
       "      <td>12.0</td>\n",
       "      <td>70</td>\n",
       "      <td>1</td>\n",
       "      <td>chevrolet chevelle malibu</td>\n",
       "    </tr>\n",
       "    <tr>\n",
       "      <th>1</th>\n",
       "      <td>15.0</td>\n",
       "      <td>8</td>\n",
       "      <td>350.0</td>\n",
       "      <td>165</td>\n",
       "      <td>3693</td>\n",
       "      <td>11.5</td>\n",
       "      <td>70</td>\n",
       "      <td>1</td>\n",
       "      <td>buick skylark 320</td>\n",
       "    </tr>\n",
       "    <tr>\n",
       "      <th>2</th>\n",
       "      <td>18.0</td>\n",
       "      <td>8</td>\n",
       "      <td>318.0</td>\n",
       "      <td>150</td>\n",
       "      <td>3436</td>\n",
       "      <td>11.0</td>\n",
       "      <td>70</td>\n",
       "      <td>1</td>\n",
       "      <td>plymouth satellite</td>\n",
       "    </tr>\n",
       "    <tr>\n",
       "      <th>3</th>\n",
       "      <td>16.0</td>\n",
       "      <td>8</td>\n",
       "      <td>304.0</td>\n",
       "      <td>150</td>\n",
       "      <td>3433</td>\n",
       "      <td>12.0</td>\n",
       "      <td>70</td>\n",
       "      <td>1</td>\n",
       "      <td>amc rebel sst</td>\n",
       "    </tr>\n",
       "    <tr>\n",
       "      <th>4</th>\n",
       "      <td>17.0</td>\n",
       "      <td>8</td>\n",
       "      <td>302.0</td>\n",
       "      <td>140</td>\n",
       "      <td>3449</td>\n",
       "      <td>10.5</td>\n",
       "      <td>70</td>\n",
       "      <td>1</td>\n",
       "      <td>ford torino</td>\n",
       "    </tr>\n",
       "  </tbody>\n",
       "</table>\n",
       "</div>"
      ],
      "text/plain": [
       "    mpg  cylinders  displacement horsepower  weight  acceleration  model year  \\\n",
       "0  18.0          8         307.0        130    3504          12.0          70   \n",
       "1  15.0          8         350.0        165    3693          11.5          70   \n",
       "2  18.0          8         318.0        150    3436          11.0          70   \n",
       "3  16.0          8         304.0        150    3433          12.0          70   \n",
       "4  17.0          8         302.0        140    3449          10.5          70   \n",
       "\n",
       "   origin                   car name  \n",
       "0       1  chevrolet chevelle malibu  \n",
       "1       1          buick skylark 320  \n",
       "2       1         plymouth satellite  \n",
       "3       1              amc rebel sst  \n",
       "4       1                ford torino  "
      ]
     },
     "execution_count": 42,
     "metadata": {},
     "output_type": "execute_result"
    }
   ],
   "source": [
    "df.head()"
   ]
  },
  {
   "cell_type": "code",
   "execution_count": 55,
   "id": "ffe6fa5b",
   "metadata": {},
   "outputs": [
    {
     "ename": "TypeError",
     "evalue": "'str' object is not callable",
     "output_type": "error",
     "traceback": [
      "\u001b[1;31m---------------------------------------------------------------------------\u001b[0m",
      "\u001b[1;31mTypeError\u001b[0m                                 Traceback (most recent call last)",
      "\u001b[1;32mc:\\Users\\Ravi Nadageri\\Desktop\\Py_Practice _file\\TuteDude.ipynb Cell 113\u001b[0m in \u001b[0;36m<cell line: 2>\u001b[1;34m()\u001b[0m\n\u001b[0;32m      <a href='vscode-notebook-cell:/c%3A/Users/Ravi%20Nadageri/Desktop/Py_Practice%20_file/TuteDude.ipynb#Y221sZmlsZQ%3D%3D?line=0'>1</a>\u001b[0m plt\u001b[39m.\u001b[39mscatter(x\u001b[39m=\u001b[39m\u001b[39m'\u001b[39m\u001b[39macceleration\u001b[39m\u001b[39m'\u001b[39m, y\u001b[39m=\u001b[39m\u001b[39m'\u001b[39m\u001b[39mhorsepower\u001b[39m\u001b[39m'\u001b[39m,data\u001b[39m=\u001b[39mdf)\n\u001b[1;32m----> <a href='vscode-notebook-cell:/c%3A/Users/Ravi%20Nadageri/Desktop/Py_Practice%20_file/TuteDude.ipynb#Y221sZmlsZQ%3D%3D?line=1'>2</a>\u001b[0m plt\u001b[39m.\u001b[39;49mtitle(\u001b[39m\"\u001b[39;49m\u001b[39mmy chart\u001b[39;49m\u001b[39m\"\u001b[39;49m)\n\u001b[0;32m      <a href='vscode-notebook-cell:/c%3A/Users/Ravi%20Nadageri/Desktop/Py_Practice%20_file/TuteDude.ipynb#Y221sZmlsZQ%3D%3D?line=2'>3</a>\u001b[0m get_ipython()\u001b[39m.\u001b[39mrun_line_magic(\u001b[39m'\u001b[39m\u001b[39mmatplotlib.inline\u001b[39m\u001b[39m'\u001b[39m, \u001b[39m'\u001b[39m\u001b[39m'\u001b[39m)\n",
      "\u001b[1;31mTypeError\u001b[0m: 'str' object is not callable"
     ]
    },
    {
     "data": {
      "image/png": "[encoded data removed]",
      "text/plain": [
       "<Figure size 640x480 with 1 Axes>"
      ]
     },
     "metadata": {},
     "output_type": "display_data"
    }
   ],
   "source": [
    "plt.scatter(x='acceleration', y='horsepower',data=df)\n",
    "plt.title(\"my chart\")\n",
    "%matplotlib.inline"
   ]
  },
  {
   "cell_type": "code",
   "execution_count": null,
   "id": "0bda0a95",
   "metadata": {},
   "outputs": [],
   "source": [
    "df.pivot(index='df.index',columns='model year', values='displacement')"
   ]
  },
  {
   "cell_type": "code",
   "execution_count": 1,
   "id": "9903f11a",
   "metadata": {},
   "outputs": [
    {
     "data": {
      "text/plain": [
       "<AxesSubplot:>"
      ]
     },
     "execution_count": 1,
     "metadata": {},
     "output_type": "execute_result"
    },
    {
     "data": {
      "image/png": "[encoded data removed]",
      "text/plain": [
       "<Figure size 640x480 with 2 Axes>"
      ]
     },
     "metadata": {},
     "output_type": "display_data"
    }
   ],
   "source": [
    "import numpy as np\n",
    "import seaborn as sns\n",
    "\n",
    "np.random.seed(0)\n",
    "\n",
    "dm = np.random.rand(5,6)\n",
    "\n",
    "sns.heatmap(dm, vmin=0)"
   ]
  },
  {
   "cell_type": "code",
   "execution_count": 3,
   "id": "e7333c1e",
   "metadata": {},
   "outputs": [],
   "source": [
    "flights = sns.load_dataset('flights')"
   ]
  },
  {
   "cell_type": "code",
   "execution_count": 4,
   "id": "8c246f83",
   "metadata": {},
   "outputs": [
    {
     "data": {
      "text/html": [
       "<div>\n",
       "<style scoped>\n",
       "    .dataframe tbody tr th:only-of-type {\n",
       "        vertical-align: middle;\n",
       "    }\n",
       "\n",
       "    .dataframe tbody tr th {\n",
       "        vertical-align: top;\n",
       "    }\n",
       "\n",
       "    .dataframe thead th {\n",
       "        text-align: right;\n",
       "    }\n",
       "</style>\n",
       "<table border=\"1\" class=\"dataframe\">\n",
       "  <thead>\n",
       "    <tr style=\"text-align: right;\">\n",
       "      <th></th>\n",
       "      <th>year</th>\n",
       "      <th>month</th>\n",
       "      <th>passengers</th>\n",
       "    </tr>\n",
       "  </thead>\n",
       "  <tbody>\n",
       "    <tr>\n",
       "      <th>0</th>\n",
       "      <td>1949</td>\n",
       "      <td>Jan</td>\n",
       "      <td>112</td>\n",
       "    </tr>\n",
       "    <tr>\n",
       "      <th>1</th>\n",
       "      <td>1949</td>\n",
       "      <td>Feb</td>\n",
       "      <td>118</td>\n",
       "    </tr>\n",
       "    <tr>\n",
       "      <th>2</th>\n",
       "      <td>1949</td>\n",
       "      <td>Mar</td>\n",
       "      <td>132</td>\n",
       "    </tr>\n",
       "    <tr>\n",
       "      <th>3</th>\n",
       "      <td>1949</td>\n",
       "      <td>Apr</td>\n",
       "      <td>129</td>\n",
       "    </tr>\n",
       "    <tr>\n",
       "      <th>4</th>\n",
       "      <td>1949</td>\n",
       "      <td>May</td>\n",
       "      <td>121</td>\n",
       "    </tr>\n",
       "    <tr>\n",
       "      <th>...</th>\n",
       "      <td>...</td>\n",
       "      <td>...</td>\n",
       "      <td>...</td>\n",
       "    </tr>\n",
       "    <tr>\n",
       "      <th>139</th>\n",
       "      <td>1960</td>\n",
       "      <td>Aug</td>\n",
       "      <td>606</td>\n",
       "    </tr>\n",
       "    <tr>\n",
       "      <th>140</th>\n",
       "      <td>1960</td>\n",
       "      <td>Sep</td>\n",
       "      <td>508</td>\n",
       "    </tr>\n",
       "    <tr>\n",
       "      <th>141</th>\n",
       "      <td>1960</td>\n",
       "      <td>Oct</td>\n",
       "      <td>461</td>\n",
       "    </tr>\n",
       "    <tr>\n",
       "      <th>142</th>\n",
       "      <td>1960</td>\n",
       "      <td>Nov</td>\n",
       "      <td>390</td>\n",
       "    </tr>\n",
       "    <tr>\n",
       "      <th>143</th>\n",
       "      <td>1960</td>\n",
       "      <td>Dec</td>\n",
       "      <td>432</td>\n",
       "    </tr>\n",
       "  </tbody>\n",
       "</table>\n",
       "<p>144 rows × 3 columns</p>\n",
       "</div>"
      ],
      "text/plain": [
       "     year month  passengers\n",
       "0    1949   Jan         112\n",
       "1    1949   Feb         118\n",
       "2    1949   Mar         132\n",
       "3    1949   Apr         129\n",
       "4    1949   May         121\n",
       "..    ...   ...         ...\n",
       "139  1960   Aug         606\n",
       "140  1960   Sep         508\n",
       "141  1960   Oct         461\n",
       "142  1960   Nov         390\n",
       "143  1960   Dec         432\n",
       "\n",
       "[144 rows x 3 columns]"
      ]
     },
     "execution_count": 4,
     "metadata": {},
     "output_type": "execute_result"
    }
   ],
   "source": [
    "flights"
   ]
  },
  {
   "cell_type": "code",
   "execution_count": 6,
   "id": "8c0248cc",
   "metadata": {},
   "outputs": [],
   "source": [
    "from sklearn.linear_model import LinearRegression\n",
    "\n",
    "lm = LinearRegression()"
   ]
  },
  {
   "cell_type": "code",
   "execution_count": 15,
   "id": "6083d895",
   "metadata": {},
   "outputs": [],
   "source": [
    "x = flights[['year']]\n",
    "y = flights['passengers']"
   ]
  },
  {
   "cell_type": "code",
   "execution_count": 16,
   "id": "5b0d6db3",
   "metadata": {},
   "outputs": [
    {
     "data": {
      "text/html": [
       "<style>#sk-container-id-1 {color: black;background-color: white;}#sk-container-id-1 pre{padding: 0;}#sk-container-id-1 div.sk-toggleable {background-color: white;}#sk-container-id-1 label.sk-toggleable__label {cursor: pointer;display: block;width: 100%;margin-bottom: 0;padding: 0.3em;box-sizing: border-box;text-align: center;}#sk-container-id-1 label.sk-toggleable__label-arrow:before {content: \"▸\";float: left;margin-right: 0.25em;color: #696969;}#sk-container-id-1 label.sk-toggleable__label-arrow:hover:before {color: black;}#sk-container-id-1 div.sk-estimator:hover label.sk-toggleable__label-arrow:before {color: black;}#sk-container-id-1 div.sk-toggleable__content {max-height: 0;max-width: 0;overflow: hidden;text-align: left;background-color: #f0f8ff;}#sk-container-id-1 div.sk-toggleable__content pre {margin: 0.2em;color: black;border-radius: 0.25em;background-color: #f0f8ff;}#sk-container-id-1 input.sk-toggleable__control:checked~div.sk-toggleable__content {max-height: 200px;max-width: 100%;overflow: auto;}#sk-container-id-1 input.sk-toggleable__control:checked~label.sk-toggleable__label-arrow:before {content: \"▾\";}#sk-container-id-1 div.sk-estimator input.sk-toggleable__control:checked~label.sk-toggleable__label {background-color: #d4ebff;}#sk-container-id-1 div.sk-label input.sk-toggleable__control:checked~label.sk-toggleable__label {background-color: #d4ebff;}#sk-container-id-1 input.sk-hidden--visually {border: 0;clip: rect(1px 1px 1px 1px);clip: rect(1px, 1px, 1px, 1px);height: 1px;margin: -1px;overflow: hidden;padding: 0;position: absolute;width: 1px;}#sk-container-id-1 div.sk-estimator {font-family: monospace;background-color: #f0f8ff;border: 1px dotted black;border-radius: 0.25em;box-sizing: border-box;margin-bottom: 0.5em;}#sk-container-id-1 div.sk-estimator:hover {background-color: #d4ebff;}#sk-container-id-1 div.sk-parallel-item::after {content: \"\";width: 100%;border-bottom: 1px solid gray;flex-grow: 1;}#sk-container-id-1 div.sk-label:hover label.sk-toggleable__label {background-color: #d4ebff;}#sk-container-id-1 div.sk-serial::before {content: \"\";position: absolute;border-left: 1px solid gray;box-sizing: border-box;top: 0;bottom: 0;left: 50%;z-index: 0;}#sk-container-id-1 div.sk-serial {display: flex;flex-direction: column;align-items: center;background-color: white;padding-right: 0.2em;padding-left: 0.2em;position: relative;}#sk-container-id-1 div.sk-item {position: relative;z-index: 1;}#sk-container-id-1 div.sk-parallel {display: flex;align-items: stretch;justify-content: center;background-color: white;position: relative;}#sk-container-id-1 div.sk-item::before, #sk-container-id-1 div.sk-parallel-item::before {content: \"\";position: absolute;border-left: 1px solid gray;box-sizing: border-box;top: 0;bottom: 0;left: 50%;z-index: -1;}#sk-container-id-1 div.sk-parallel-item {display: flex;flex-direction: column;z-index: 1;position: relative;background-color: white;}#sk-container-id-1 div.sk-parallel-item:first-child::after {align-self: flex-end;width: 50%;}#sk-container-id-1 div.sk-parallel-item:last-child::after {align-self: flex-start;width: 50%;}#sk-container-id-1 div.sk-parallel-item:only-child::after {width: 0;}#sk-container-id-1 div.sk-dashed-wrapped {border: 1px dashed gray;margin: 0 0.4em 0.5em 0.4em;box-sizing: border-box;padding-bottom: 0.4em;background-color: white;}#sk-container-id-1 div.sk-label label {font-family: monospace;font-weight: bold;display: inline-block;line-height: 1.2em;}#sk-container-id-1 div.sk-label-container {text-align: center;}#sk-container-id-1 div.sk-container {/* jupyter's `normalize.less` sets `[hidden] { display: none; }` but bootstrap.min.css set `[hidden] { display: none !important; }` so we also need the `!important` here to be able to override the default hidden behavior on the sphinx rendered scikit-learn.org. See: https://github.com/scikit-learn/scikit-learn/issues/21755 */display: inline-block !important;position: relative;}#sk-container-id-1 div.sk-text-repr-fallback {display: none;}</style><div id=\"sk-container-id-1\" class=\"sk-top-container\"><div class=\"sk-text-repr-fallback\"><pre>LinearRegression()</pre><b>In a Jupyter environment, please rerun this cell to show the HTML representation or trust the notebook. <br />On GitHub, the HTML representation is unable to render, please try loading this page with nbviewer.org.</b></div><div class=\"sk-container\" hidden><div class=\"sk-item\"><div class=\"sk-estimator sk-toggleable\"><input class=\"sk-toggleable__control sk-hidden--visually\" id=\"sk-estimator-id-1\" type=\"checkbox\" checked><label for=\"sk-estimator-id-1\" class=\"sk-toggleable__label sk-toggleable__label-arrow\">LinearRegression</label><div class=\"sk-toggleable__content\"><pre>LinearRegression()</pre></div></div></div></div></div>"
      ],
      "text/plain": [
       "LinearRegression()"
      ]
     },
     "execution_count": 16,
     "metadata": {},
     "output_type": "execute_result"
    }
   ],
   "source": [
    "lm.fit(x,y)"
   ]
  },
  {
   "cell_type": "code",
   "execution_count": 18,
   "id": "58974cb4",
   "metadata": {},
   "outputs": [
    {
     "name": "stdout",
     "output_type": "stream",
     "text": [
      "[104.71688034 104.71688034 104.71688034 104.71688034 104.71688034\n",
      " 104.71688034 104.71688034 104.71688034 104.71688034 104.71688034\n",
      " 104.71688034 104.71688034 136.64083139 136.64083139 136.64083139\n",
      " 136.64083139 136.64083139 136.64083139 136.64083139 136.64083139\n",
      " 136.64083139 136.64083139 136.64083139 136.64083139 168.56478244\n",
      " 168.56478244 168.56478244 168.56478244 168.56478244 168.56478244\n",
      " 168.56478244 168.56478244 168.56478244 168.56478244 168.56478244\n",
      " 168.56478244 200.48873349 200.48873349 200.48873349 200.48873349\n",
      " 200.48873349 200.48873349 200.48873349 200.48873349 200.48873349\n",
      " 200.48873349 200.48873349 200.48873349 232.41268454 232.41268454\n",
      " 232.41268454 232.41268454 232.41268454 232.41268454 232.41268454\n",
      " 232.41268454 232.41268454 232.41268454 232.41268454 232.41268454\n",
      " 264.33663559 264.33663559 264.33663559 264.33663559 264.33663559\n",
      " 264.33663559 264.33663559 264.33663559 264.33663559 264.33663559\n",
      " 264.33663559 264.33663559 296.26058664 296.26058664 296.26058664\n",
      " 296.26058664 296.26058664 296.26058664 296.26058664 296.26058664\n",
      " 296.26058664 296.26058664 296.26058664 296.26058664 328.18453768\n",
      " 328.18453768 328.18453768 328.18453768 328.18453768 328.18453768\n",
      " 328.18453768 328.18453768 328.18453768 328.18453768 328.18453768\n",
      " 328.18453768 360.10848873 360.10848873 360.10848873 360.10848873\n",
      " 360.10848873 360.10848873 360.10848873 360.10848873 360.10848873\n",
      " 360.10848873 360.10848873 360.10848873 392.03243978 392.03243978\n",
      " 392.03243978 392.03243978 392.03243978 392.03243978 392.03243978\n",
      " 392.03243978 392.03243978 392.03243978 392.03243978 392.03243978\n",
      " 423.95639083 423.95639083 423.95639083 423.95639083 423.95639083\n",
      " 423.95639083 423.95639083 423.95639083 423.95639083 423.95639083\n",
      " 423.95639083 423.95639083 455.88034188 455.88034188 455.88034188\n",
      " 455.88034188 455.88034188 455.88034188 455.88034188 455.88034188\n",
      " 455.88034188 455.88034188 455.88034188 455.88034188]\n"
     ]
    }
   ],
   "source": [
    "yhat=lm.predict(x)\n",
    "print(yhat)"
   ]
  },
  {
   "cell_type": "code",
   "execution_count": 19,
   "id": "dc1e9da6",
   "metadata": {},
   "outputs": [
    {
     "data": {
      "text/plain": [
       "-62115.063714063734"
      ]
     },
     "execution_count": 19,
     "metadata": {},
     "output_type": "execute_result"
    }
   ],
   "source": [
    "lm.intercept_"
   ]
  },
  {
   "cell_type": "code",
   "execution_count": 20,
   "id": "dc18569f",
   "metadata": {},
   "outputs": [
    {
     "data": {
      "text/plain": [
       "array([31.92395105])"
      ]
     },
     "execution_count": 20,
     "metadata": {},
     "output_type": "execute_result"
    }
   ],
   "source": [
    "lm.coef_"
   ]
  },
  {
   "cell_type": "code",
   "execution_count": 24,
   "id": "0a60fed6",
   "metadata": {},
   "outputs": [
    {
     "data": {
      "text/plain": [
       "(0.0, 500.0)"
      ]
     },
     "execution_count": 24,
     "metadata": {},
     "output_type": "execute_result"
    },
    {
     "data": {
      "image/png": "[encoded data removed]",
      "text/plain": [
       "<Figure size 640x480 with 1 Axes>"
      ]
     },
     "metadata": {},
     "output_type": "display_data"
    }
   ],
   "source": [
    "import matplotlib.pyplot as plt\n",
    "sns.regplot(x='year',y='passengers',data = flights)\n",
    "plt.ylim(0,500)"
   ]
  },
  {
   "cell_type": "code",
   "execution_count": 25,
   "id": "3fc961a7",
   "metadata": {},
   "outputs": [
    {
     "name": "stderr",
     "output_type": "stream",
     "text": [
      "c:\\Users\\Ravi Nadageri\\Python_3_10\\lib\\site-packages\\seaborn\\_decorators.py:36: FutureWarning: Pass the following variables as keyword args: x, y. From version 0.12, the only valid positional argument will be `data`, and passing other arguments without an explicit keyword will result in an error or misinterpretation.\n",
      "  warnings.warn(\n"
     ]
    },
    {
     "data": {
      "text/plain": [
       "<AxesSubplot:xlabel='year', ylabel='passengers'>"
      ]
     },
     "execution_count": 25,
     "metadata": {},
     "output_type": "execute_result"
    },
    {
     "data": {
      "image/png": "[encoded data removed]",
      "text/plain": [
       "<Figure size 640x480 with 1 Axes>"
      ]
     },
     "metadata": {},
     "output_type": "display_data"
    }
   ],
   "source": [
    "sns.residplot(flights['year'],flights['passengers'])"
   ]
  },
  {
   "cell_type": "code",
   "execution_count": 31,
   "id": "33777ca6",
   "metadata": {},
   "outputs": [
    {
     "name": "stderr",
     "output_type": "stream",
     "text": [
      "c:\\Users\\Ravi Nadageri\\Python_3_10\\lib\\site-packages\\seaborn\\distributions.py:2619: FutureWarning: `distplot` is a deprecated function and will be removed in a future version. Please adapt your code to use either `displot` (a figure-level function with similar flexibility) or `histplot` (an axes-level function for histograms).\n",
      "  warnings.warn(msg, FutureWarning)\n"
     ]
    },
    {
     "data": {
      "text/plain": [
       "<AxesSubplot:ylabel='Density'>"
      ]
     },
     "execution_count": 31,
     "metadata": {},
     "output_type": "execute_result"
    },
    {
     "data": {
      "image/png": "[encoded data removed]",
      "text/plain": [
       "<Figure size 640x480 with 1 Axes>"
      ]
     },
     "metadata": {},
     "output_type": "display_data"
    }
   ],
   "source": [
    "np.random.seed(0)\n",
    "x = np.random.rand(100)\n",
    "\n",
    "sns.distplot(x)"
   ]
  },
  {
   "cell_type": "code",
   "execution_count": 24,
   "id": "7813606c",
   "metadata": {},
   "outputs": [
    {
     "name": "stdout",
     "output_type": "stream",
     "text": [
      "A python interpreter is a computer program that converts each high-level program statement into machine code. An interpreter translates the command that you write out into code that the computer can understand\n"
     ]
    }
   ],
   "source": [
    " print('A python interpreter is a computer program that converts each high-level program statement into machine code. An interpreter translates the command that you write out into code that the computer can understand')"
   ]
  },
  {
   "cell_type": "code",
   "execution_count": 22,
   "id": "177060f7",
   "metadata": {},
   "outputs": [
    {
     "ename": "NameError",
     "evalue": "name 'p' is not defined",
     "output_type": "error",
     "traceback": [
      "\u001b[1;31m---------------------------------------------------------------------------\u001b[0m",
      "\u001b[1;31mNameError\u001b[0m                                 Traceback (most recent call last)",
      "\u001b[1;32mc:\\Users\\Ravi Nadageri\\Desktop\\Py_Practice _file\\TuteDude.ipynb Cell 128\u001b[0m in \u001b[0;36m<cell line: 1>\u001b[1;34m()\u001b[0m\n\u001b[1;32m----> <a href='vscode-notebook-cell:/c%3A/Users/Ravi%20Nadageri/Desktop/Py_Practice%20_file/TuteDude.ipynb#Y240sZmlsZQ%3D%3D?line=0'>1</a>\u001b[0m p\n",
      "\u001b[1;31mNameError\u001b[0m: name 'p' is not defined"
     ]
    }
   ],
   "source": [
    "p"
   ]
  },
  {
   "cell_type": "code",
   "execution_count": null,
   "id": "cc0a45ac",
   "metadata": {},
   "outputs": [],
   "source": []
  },
  {
   "cell_type": "code",
   "execution_count": null,
   "id": "474fb9c5",
   "metadata": {},
   "outputs": [],
   "source": []
  },
  {
   "cell_type": "markdown",
   "id": "0283a514",
   "metadata": {},
   "source": []
  }
 ],
 "metadata": {
  "kernelspec": {
   "display_name": "Python 3.10.6 64-bit",
   "language": "python",
   "name": "python3"
  },
  "language_info": {
   "codemirror_mode": {
    "name": "ipython",
    "version": 3
   },
   "file_extension": ".py",
   "mimetype": "text/x-python",
   "name": "python",
   "nbconvert_exporter": "python",
   "pygments_lexer": "ipython3",
   "version": "3.10.6"
  },
  "vscode": {
   "interpreter": {
    "hash": "a79c033472556955bf7bc972dadfc28751fe93ccf05084c8e6ce1930f995b37a"
   }
  }
 },
 "nbformat": 4,
 "nbformat_minor": 5
}
