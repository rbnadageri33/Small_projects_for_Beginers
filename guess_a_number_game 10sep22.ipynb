{
 "cells": [
  {
   "cell_type": "code",
   "execution_count": 2,
   "metadata": {},
   "outputs": [
    {
     "name": "stdout",
     "output_type": "stream",
     "text": [
      "Too low\n",
      "Too low\n",
      "Too low\n",
      "Too low\n",
      "Too low\n",
      "you guessed it right!!\n"
     ]
    }
   ],
   "source": [
    "import random\n",
    "n = random.randrange(1,10)\n",
    "guess = int(input(\"Enter any number: \"))\n",
    "while n!= guess:\n",
    "    if guess < n:\n",
    "        print(\"Too low\")\n",
    "        guess = int(input(\"Enter number again: \"))\n",
    "    elif guess > n:\n",
    "        print(\"Too high!\")\n",
    "        guess = int(input(\"Enter number again: \"))\n",
    "    else:\n",
    "      break\n",
    "print(\"you guessed it right!!\")"
   ]
  },
  {
   "cell_type": "code",
   "execution_count": 5,
   "id": "7bb00157",
   "metadata": {},
   "outputs": [
    {
     "name": "stdout",
     "output_type": "stream",
     "text": [
      "The number entered is too high\n",
      "Congrats!!! Oh ho you guessed the right number\n"
     ]
    }
   ],
   "source": [
    "import random\n",
    "m = random.randrange(1,10)\n",
    "guess = int(input('Enter any number to guess: '))\n",
    "while m != guess:\n",
    "    if guess < m:\n",
    "        print('The number is too low')\n",
    "        guess = int(input('Enter the number again to coorect the guess: '))\n",
    "    elif guess > m:\n",
    "        print('The number entered is too high')\n",
    "        guess = int(input('Enter the number again: '))\n",
    "    else:\n",
    "        break\n",
    "print('Congrats!!! Oh ho you guessed the right number')\n",
    "\n"
   ]
  },
  {
   "cell_type": "code",
   "execution_count": null,
   "id": "b8c68fd0",
   "metadata": {},
   "outputs": [],
   "source": []
  }
 ],
 "metadata": {
  "kernelspec": {
   "display_name": "Python 3.10.6 64-bit",
   "language": "python",
   "name": "python3"
  },
  "language_info": {
   "codemirror_mode": {
    "name": "ipython",
    "version": 3
   },
   "file_extension": ".py",
   "mimetype": "text/x-python",
   "name": "python",
   "nbconvert_exporter": "python",
   "pygments_lexer": "ipython3",
   "version": "3.10.6"
  },
  "vscode": {
   "interpreter": {
    "hash": "a79c033472556955bf7bc972dadfc28751fe93ccf05084c8e6ce1930f995b37a"
   }
  }
 },
 "nbformat": 4,
 "nbformat_minor": 5
}
