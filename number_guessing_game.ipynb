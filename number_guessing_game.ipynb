{
 "cells": [
  {
   "attachments": {},
   "cell_type": "markdown",
   "id": "e3bc66a0",
   "metadata": {},
   "source": [
    "# Number gessing game with Elif statement"
   ]
  },
  {
   "attachments": {},
   "cell_type": "markdown",
   "id": "cd8b7c63",
   "metadata": {},
   "source": [
    "We need random library to start the game"
   ]
  },
  {
   "cell_type": "code",
   "execution_count": 1,
   "id": "5b3321b3",
   "metadata": {},
   "outputs": [],
   "source": [
    "import random"
   ]
  },
  {
   "cell_type": "code",
   "execution_count": 2,
   "id": "55ca8177",
   "metadata": {},
   "outputs": [
    {
     "name": "stdout",
     "output_type": "stream",
     "text": [
      "The number is looks smaller: \n",
      "The number is looks smaller: \n",
      "Congrats hou are lucky to guess the number\n"
     ]
    }
   ],
   "source": [
    "\n",
    "n = random.randrange(1,10)\n",
    "\n",
    "guess = int(input('pls enter your number'))\n",
    "\n",
    "while n != guess:\n",
    "    if guess < n:\n",
    "        print('The number is looks smaller: ')\n",
    "        guess = int(input('Pls enter any other number'))\n",
    "    elif guess > n:\n",
    "        print('this number is higher  :')\n",
    "        guess = int(input('Pls enter your new number'))\n",
    "    else:\n",
    "        break\n",
    "print('Congrats hou are lucky to guess the number')"
   ]
  },
  {
   "cell_type": "code",
   "execution_count": null,
   "id": "5534414b",
   "metadata": {},
   "outputs": [],
   "source": []
  }
 ],
 "metadata": {
  "kernelspec": {
   "display_name": "Python 3",
   "language": "python",
   "name": "python3"
  },
  "language_info": {
   "codemirror_mode": {
    "name": "ipython",
    "version": 3
   },
   "file_extension": ".py",
   "mimetype": "text/x-python",
   "name": "python",
   "nbconvert_exporter": "python",
   "pygments_lexer": "ipython3",
   "version": "3.10.6"
  },
  "vscode": {
   "interpreter": {
    "hash": "a79c033472556955bf7bc972dadfc28751fe93ccf05084c8e6ce1930f995b37a"
   }
  }
 },
 "nbformat": 4,
 "nbformat_minor": 5
}
